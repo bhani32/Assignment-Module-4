{
  "metadata": {
    "kernelspec": {
      "name": "python",
      "display_name": "Pyolite",
      "language": "python"
    },
    "language_info": {
      "codemirror_mode": {
        "name": "python",
        "version": 3
      },
      "file_extension": ".py",
      "mimetype": "text/x-python",
      "name": "python",
      "nbconvert_exporter": "python",
      "pygments_lexer": "ipython3",
      "version": "3.8"
    }
  },
  "nbformat_minor": 4,
  "nbformat": 4,
  "cells": [
    {
      "cell_type": "markdown",
      "source": "<center>\n    <img src=\"https://cf-courses-data.s3.us.cloud-object-storage.appdomain.cloud/IBMDeveloperSkillsNetwork-DS0105EN-SkillsNetwork/labs/Module2/images/SN_web_lightmode.png\" width=\"300\" alt=\"cognitiveclass.ai logo\"  />\n</center>\n",
      "metadata": {}
    },
    {
      "cell_type": "markdown",
      "source": "#### Add your code below following the instructions given in the course\n",
      "metadata": {}
    },
    {
      "cell_type": "markdown",
      "source": "# My Jupyter Notebook on IBM Watson Studio\n",
      "metadata": {}
    },
    {
      "cell_type": "markdown",
      "source": "**Ayesha Areej**\nData Scientist",
      "metadata": {}
    },
    {
      "cell_type": "markdown",
      "source": "*I like to solve problems, i like to work in complexed and unstrustured situations to find a way to optimize them and streamline the work*\n",
      "metadata": {}
    },
    {
      "cell_type": "markdown",
      "source": "### This code consists of following function:",
      "metadata": {}
    },
    {
      "cell_type": "code",
      "source": "1+1",
      "metadata": {
        "trusted": true
      },
      "execution_count": 2,
      "outputs": [
        {
          "execution_count": 2,
          "output_type": "execute_result",
          "data": {
            "text/plain": "2"
          },
          "metadata": {}
        }
      ]
    },
    {
      "cell_type": "markdown",
      "source": "1. IBM Watson Studio\n2. SPSS Modeler\n3. Auto AI\n\n|Serial Number|P\n\n~~Tools of data science completed~~",
      "metadata": {}
    },
    {
      "cell_type": "code",
      "source": "",
      "metadata": {},
      "execution_count": null,
      "outputs": []
    }
  ]
}